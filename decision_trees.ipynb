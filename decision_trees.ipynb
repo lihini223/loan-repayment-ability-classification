{
 "cells": [
  {
   "cell_type": "code",
   "execution_count": null,
   "metadata": {},
   "outputs": [],
   "source": [
    "import sklearn as sk\n",
    "import pandas as pd"
   ]
  },
  {
   "cell_type": "code",
   "execution_count": null,
   "metadata": {},
   "outputs": [],
   "source": [
    "# Load and Read the data file\n",
    "\n",
    "DATAFILE = 'loan_data_training.csv'\n",
    "\n",
    "loan_data = pd.read_csv(DATAFILE)"
   ]
  },
  {
   "cell_type": "code",
   "execution_count": null,
   "metadata": {},
   "outputs": [],
   "source": [
    "loan_data.head()"
   ]
  },
  {
   "cell_type": "code",
   "execution_count": null,
   "metadata": {},
   "outputs": [],
   "source": [
    "# define X and Y for the decision tree classifier. the target column is TARGET .\n",
    "\n",
    "X = loan_data.drop('TARGET', axis=1)\n",
    "\n",
    "Y = loan_data['TARGET']\n",
    "\n",
    "# Split the data into training and test sets"
   ]
  },
  {
   "cell_type": "code",
   "execution_count": null,
   "metadata": {},
   "outputs": [],
   "source": [
    "# convert the NAME_CONTRACT_TYPE attribute into numerical\n",
    "\n",
    "X['NAME_CONTRACT_TYPE'] = X['NAME_CONTRACT_TYPE'].map({'Cash loans': 0, 'Revolving loans': 1})\n"
   ]
  },
  {
   "cell_type": "code",
   "execution_count": null,
   "metadata": {},
   "outputs": [],
   "source": [
    "# convert the CODE_GENDER,\tFLAG_OWN_CAR,\tFLAG_OWN_REALTY attributes in to numerical\n",
    "def transform(self):\n",
    "    self.CODE_GENDER = 1 if self.CODE_GENDER == 'M' else 0\n",
    "    self.FLAG_OWN_CAR = 1 if self.FLAG_OWN_CAR == 'Y' else 0\n",
    "    self.FLAG_OWN_REALTY = 1 if self.FLAG_OWN_REALTY == 'Y' else 0\n",
    "    \n",
    "    return self\n",
    "\n",
    "X = X.apply(transform, axis=1)\n",
    "\n",
    "\n",
    "\n"
   ]
  },
  {
   "cell_type": "code",
   "execution_count": null,
   "metadata": {},
   "outputs": [],
   "source": [
    "from sklearn import tree\n",
    "\n",
    "# Create a decision tree classifier \n",
    "\n",
    "clf = tree.DecisionTreeClassifier()\n",
    "\n",
    "# Fit the classifier to the training data\n",
    "clf = clf.fit(X, Y)\n",
    "\n"
   ]
  }
 ],
 "metadata": {
  "kernelspec": {
   "display_name": "dsp",
   "language": "python",
   "name": "python3"
  },
  "language_info": {
   "codemirror_mode": {
    "name": "ipython",
    "version": 3
   },
   "file_extension": ".py",
   "mimetype": "text/x-python",
   "name": "python",
   "nbconvert_exporter": "python",
   "pygments_lexer": "ipython3",
   "version": "3.8.18"
  }
 },
 "nbformat": 4,
 "nbformat_minor": 2
}
